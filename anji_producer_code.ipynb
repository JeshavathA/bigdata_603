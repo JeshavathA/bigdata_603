{
 "cells": [
  {
   "cell_type": "code",
   "execution_count": 6,
   "id": "20fc161c",
   "metadata": {},
   "outputs": [],
   "source": [
    "import requests\n",
    "import json\n",
    "from time import sleep\n",
    "from kafka import KafkaProducer\n",
    "\n",
    "# Initialize a Kafka producer\n",
    "producer = KafkaProducer(bootstrap_servers='localhost:9092')\n",
    "\n",
    "# Initialize the producer loop\n",
    "url = \"http://api.open-notify.org/iss-now.json\"\n",
    "producer_runtime = 3600  # 1 hour\n",
    "interval = 5  # 5 seconds\n",
    "\n",
    "for _ in range(producer_runtime // interval):\n",
    "    response = requests.get(url)\n",
    "    data = response.json()\n",
    "    producer.send('iss-location', json.dumps(data).encode('utf-8'))\n",
    "    \n",
    "    # Sleep for the specified interval\n",
    "    sleep(interval)\n",
    "\n",
    "# Close the producer\n",
    "producer.close()\n"
   ]
  },
  {
   "cell_type": "code",
   "execution_count": null,
   "id": "53f4d120",
   "metadata": {},
   "outputs": [],
   "source": []
  }
 ],
 "metadata": {
  "kernelspec": {
   "display_name": "Python 3 (ipykernel)",
   "language": "python",
   "name": "python3"
  },
  "language_info": {
   "codemirror_mode": {
    "name": "ipython",
    "version": 3
   },
   "file_extension": ".py",
   "mimetype": "text/x-python",
   "name": "python",
   "nbconvert_exporter": "python",
   "pygments_lexer": "ipython3",
   "version": "3.9.12"
  }
 },
 "nbformat": 4,
 "nbformat_minor": 5
}
