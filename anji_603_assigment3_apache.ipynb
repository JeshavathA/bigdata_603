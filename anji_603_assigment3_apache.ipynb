{
 "cells": [
  {
   "cell_type": "code",
   "execution_count": 1,
   "metadata": {
    "colab": {
     "base_uri": "https://localhost:8080/"
    },
    "id": "ycZ_Wyg-B77n",
    "outputId": "6a50ad9c-a042-42d3-8498-c2a4e8212903"
   },
   "outputs": [
    {
     "name": "stdout",
     "output_type": "stream",
     "text": [
      "Requirement already satisfied: pyspark in /opt/anaconda3/lib/python3.9/site-packages (3.5.0)\n",
      "Requirement already satisfied: py4j==0.10.9.7 in /opt/anaconda3/lib/python3.9/site-packages (from pyspark) (0.10.9.7)\n",
      "Note: you may need to restart the kernel to use updated packages.\n"
     ]
    }
   ],
   "source": [
    "pip install pyspark"
   ]
  },
  {
   "cell_type": "code",
   "execution_count": 2,
   "metadata": {},
   "outputs": [
    {
     "name": "stdout",
     "output_type": "stream",
     "text": [
      "java version \"1.8.0_391\"\r\n",
      "Java(TM) SE Runtime Environment (build 1.8.0_391-b13)\r\n",
      "Java HotSpot(TM) 64-Bit Server VM (build 25.391-b13, mixed mode)\r\n"
     ]
    }
   ],
   "source": [
    "!java -version"
   ]
  },
  {
   "cell_type": "code",
   "execution_count": 3,
   "metadata": {},
   "outputs": [
    {
     "name": "stderr",
     "output_type": "stream",
     "text": [
      "Setting default log level to \"WARN\".\n",
      "To adjust logging level use sc.setLogLevel(newLevel). For SparkR, use setLogLevel(newLevel).\n",
      "23/10/19 00:18:03 WARN NativeCodeLoader: Unable to load native-hadoop library for your platform... using builtin-java classes where applicable\n"
     ]
    }
   ],
   "source": [
    "import warnings\n",
    "from pyspark.sql import SparkSession\n",
    "sparkSession = SparkSession.builder.appName(\"anji\") \\\n",
    "    .config(\"spark.driver.memory\", \"4g\") \\\n",
    "    .config(\"spark.executor.memory\", \"4g\") \\\n",
    "    .getOrCreate()"
   ]
  },
  {
   "cell_type": "code",
   "execution_count": 4,
   "metadata": {
    "id": "rIBPzV-tDIJq"
   },
   "outputs": [],
   "source": [
    "#creating the schema for loading the Chicago crime datase\n",
    "from pyspark.sql.types import StructType, StructField, IntegerType, StringType, DoubleType, BooleanType, TimestampType\n",
    "c_schema = StructType([\n",
    "    StructField(\"ID\", IntegerType(), True),\n",
    "    StructField(\"Case Number\", StringType(), True),\n",
    "    StructField(\"Date\", StringType(), True),\n",
    "    StructField(\"Block\", StringType(), True),\n",
    "    StructField(\"IUCR\", StringType(), True),\n",
    "    StructField(\"Primary Type\", StringType(), True),\n",
    "    StructField(\"Description\", StringType(), True),\n",
    "    StructField(\"Location Description\", StringType(), True),\n",
    "    StructField(\"Arrest\", BooleanType(), True),\n",
    "    StructField(\"Domestic\", BooleanType(), True),\n",
    "    StructField(\"Beat\", StringType(), True),\n",
    "    StructField(\"District\", StringType(), True),\n",
    "    StructField(\"Ward\", IntegerType(), True),\n",
    "    StructField(\"Community Area\", IntegerType(), True),\n",
    "    StructField(\"FBI Code\", StringType(), True),\n",
    "    StructField(\"X Coordinate\", DoubleType(), True),\n",
    "    StructField(\"Y Coordinate\", DoubleType(), True),\n",
    "    StructField(\"Year\", IntegerType(), True),\n",
    "    StructField(\"Updated On\", StringType(), True),\n",
    "    StructField(\"Latitude\", DoubleType(), True),\n",
    "    StructField(\"Longitude\", DoubleType(), True),\n",
    "    StructField(\"Location\", StringType(), True)\n",
    "])\n"
   ]
  },
  {
   "cell_type": "code",
   "execution_count": 5,
   "metadata": {
    "colab": {
     "base_uri": "https://localhost:8080/"
    },
    "id": "sqOBsh7DDIZf",
    "outputId": "ee7924cf-686c-46c4-adbd-2dd023f48977"
   },
   "outputs": [
    {
     "name": "stderr",
     "output_type": "stream",
     "text": [
      "                                                                                \r"
     ]
    },
    {
     "name": "stdout",
     "output_type": "stream",
     "text": [
      "+--------+-----------+----------------------+--------------------+----+-----------------------+-----------------------------------+--------------------------------------+------+--------+----+--------+----+--------------+--------+------------+------------+----+----------------------+------------+-------------+----------------------------+\n",
      "|ID      |Case Number|Date                  |Block               |IUCR|Primary Type           |Description                        |Location Description                  |Arrest|Domestic|Beat|District|Ward|Community Area|FBI Code|X Coordinate|Y Coordinate|Year|Updated On            |Latitude    |Longitude    |Location                    |\n",
      "+--------+-----------+----------------------+--------------------+----+-----------------------+-----------------------------------+--------------------------------------+------+--------+----+--------+----+--------------+--------+------------+------------+----+----------------------+------------+-------------+----------------------------+\n",
      "|5741943 |HN549294   |08/25/2007 09:22:18 AM|074XX N ROGERS AVE  |0560|ASSAULT                |SIMPLE                             |OTHER                                 |false |false   |2422|024     |49  |1             |08A     |NULL        |NULL        |2007|08/17/2015 03:03:40 PM|NULL        |NULL         |NULL                        |\n",
      "|1930689 |HH109118   |01/05/2002 09:24:00 PM|007XX E 103 ST      |0820|THEFT                  |$500 AND UNDER                     |GAS STATION                           |true  |false   |0512|005     |NULL|NULL          |06      |NULL        |NULL        |2002|02/04/2016 06:33:39 AM|NULL        |NULL         |NULL                        |\n",
      "|13203321|JG415333   |09/06/2023 05:00:00 PM|002XX N Wells st    |1320|CRIMINAL DAMAGE        |TO VEHICLE                         |PARKING LOT / GARAGE (NON RESIDENTIAL)|false |false   |0122|001     |42  |32            |14      |NULL        |NULL        |2023|09/14/2023 03:43:09 PM|NULL        |NULL         |NULL                        |\n",
      "|13210088|JG423627   |08/31/2023 12:00:00 PM|023XX W JACKSON BLVD|1153|DECEPTIVE PRACTICE     |FINANCIAL IDENTITY THEFT OVER $ 300|STREET                                |false |false   |1225|012     |27  |28            |11      |1160870.0   |1898642.0   |2023|09/16/2023 03:41:56 PM|41.877565108|-87.68479102 |(41.877565108, -87.68479102)|\n",
      "|13210004|JG422532   |07/24/2023 09:45:00 PM|073XX S JEFFERY BLVD|0281|CRIMINAL SEXUAL ASSAULT|NON-AGGRAVATED                     |APARTMENT                             |false |false   |0333|003     |7   |43            |02      |1190812.0   |1856743.0   |2023|09/16/2023 03:41:56 PM|41.7619185  |-87.576209245|(41.7619185, -87.576209245) |\n",
      "+--------+-----------+----------------------+--------------------+----+-----------------------+-----------------------------------+--------------------------------------+------+--------+----+--------+----+--------------+--------+------------+------------+----+----------------------+------------+-------------+----------------------------+\n",
      "only showing top 5 rows\n",
      "\n"
     ]
    },
    {
     "name": "stderr",
     "output_type": "stream",
     "text": [
      "[Stage 1:=================================>                        (8 + 6) / 14]\r"
     ]
    },
    {
     "name": "stdout",
     "output_type": "stream",
     "text": [
      "Number of records: 7914425\n",
      "Number of columns: 22\n"
     ]
    },
    {
     "name": "stderr",
     "output_type": "stream",
     "text": [
      "\r",
      "                                                                                \r"
     ]
    }
   ],
   "source": [
    "ch=sparkSession.read.format(\"csv\") \\\n",
    "    .option(\"header\", True) \\\n",
    "    .option(\"delimiter\", \",\") \\\n",
    "    .schema(c_schema) \\\n",
    "    .load(\"Crimes_-_2001_to_Present.csv\")\n",
    "ch.show(5, truncate=False)\n",
    "print(\"Number of records:\", ch.count())\n",
    "print(\"Number of columns:\", len(ch.columns))"
   ]
  },
  {
   "cell_type": "code",
   "execution_count": 6,
   "metadata": {},
   "outputs": [
    {
     "name": "stdout",
     "output_type": "stream",
     "text": [
      "+--------+-----------+--------------------+--------------------+----+--------------------+--------------------+--------------------+------+--------+----+--------+----+--------------+--------+------------+------------+----+--------------------+------------+-------------+--------------------+\n",
      "|      ID|Case Number|                Date|               Block|IUCR|        Primary Type|         Description|Location Description|Arrest|Domestic|Beat|District|Ward|Community Area|FBI Code|X Coordinate|Y Coordinate|Year|          Updated On|    Latitude|    Longitude|            Location|\n",
      "+--------+-----------+--------------------+--------------------+----+--------------------+--------------------+--------------------+------+--------+----+--------+----+--------------+--------+------------+------------+----+--------------------+------------+-------------+--------------------+\n",
      "| 5741943|   HN549294|08/25/2007 09:22:...|  074XX N ROGERS AVE|0560|             ASSAULT|              SIMPLE|               OTHER| false|   false|2422|     024|  49|             1|     08A|        NULL|        NULL|2007|08/17/2015 03:03:...|        NULL|         NULL|                NULL|\n",
      "| 1930689|   HH109118|01/05/2002 09:24:...|      007XX E 103 ST|0820|               THEFT|      $500 AND UNDER|         GAS STATION|  true|   false|0512|     005|NULL|          NULL|      06|        NULL|        NULL|2002|02/04/2016 06:33:...|        NULL|         NULL|                NULL|\n",
      "|13203321|   JG415333|09/06/2023 05:00:...|    002XX N Wells st|1320|     CRIMINAL DAMAGE|          TO VEHICLE|PARKING LOT / GAR...| false|   false|0122|     001|  42|            32|      14|        NULL|        NULL|2023|09/14/2023 03:43:...|        NULL|         NULL|                NULL|\n",
      "|13210088|   JG423627|08/31/2023 12:00:...|023XX W JACKSON BLVD|1153|  DECEPTIVE PRACTICE|FINANCIAL IDENTIT...|              STREET| false|   false|1225|     012|  27|            28|      11|   1160870.0|   1898642.0|2023|09/16/2023 03:41:...|41.877565108| -87.68479102|(41.877565108, -8...|\n",
      "|13210004|   JG422532|07/24/2023 09:45:...|073XX S JEFFERY BLVD|0281|CRIMINAL SEXUAL A...|      NON-AGGRAVATED|           APARTMENT| false|   false|0333|     003|   7|            43|      02|   1190812.0|   1856743.0|2023|09/16/2023 03:41:...|  41.7619185|-87.576209245|(41.7619185, -87....|\n",
      "+--------+-----------+--------------------+--------------------+----+--------------------+--------------------+--------------------+------+--------+----+--------+----+--------------+--------+------------+------------+----+--------------------+------------+-------------+--------------------+\n",
      "only showing top 5 rows\n",
      "\n"
     ]
    },
    {
     "name": "stderr",
     "output_type": "stream",
     "text": [
      "                                                                                \r"
     ]
    },
    {
     "name": "stdout",
     "output_type": "stream",
     "text": [
      "Column wise NULL values     ID  Case Number  Date  Block  IUCR  Primary Type  Description  \\\n",
      "0   0            0     0      0     0             0            0   \n",
      "\n",
      "   Location Description  Arrest  Domestic  ...    Ward  Community Area  \\\n",
      "0                 11907       0         0  ...  614849          613476   \n",
      "\n",
      "   FBI Code  X Coordinate  Y Coordinate  Year  Updated On  Latitude  \\\n",
      "0         0         90108         90108     0           0     90108   \n",
      "\n",
      "   Longitude  Location  \n",
      "0      90108     90108  \n",
      "\n",
      "[1 rows x 22 columns]\n",
      "DataFrame with Null Values Filled:\n",
      "+--------+-----------+--------------------+--------------------+----+--------------------+--------------------+--------------------+------+--------+----+--------+----+--------------+--------+------------+------------+----+--------------------+------------+-------------+--------------------+\n",
      "|      ID|Case Number|                Date|               Block|IUCR|        Primary Type|         Description|Location Description|Arrest|Domestic|Beat|District|Ward|Community Area|FBI Code|X Coordinate|Y Coordinate|Year|          Updated On|    Latitude|    Longitude|            Location|\n",
      "+--------+-----------+--------------------+--------------------+----+--------------------+--------------------+--------------------+------+--------+----+--------+----+--------------+--------+------------+------------+----+--------------------+------------+-------------+--------------------+\n",
      "| 5741943|   HN549294|08/25/2007 09:22:...|  074XX N ROGERS AVE|0560|             ASSAULT|              SIMPLE|               OTHER| false|   false|2422|     024|  49|             1|     08A|         0.0|         0.0|2007|08/17/2015 03:03:...|        NULL|         NULL|                NULL|\n",
      "| 1930689|   HH109118|01/05/2002 09:24:...|      007XX E 103 ST|0820|               THEFT|      $500 AND UNDER|         GAS STATION|  true|   false|0512|     005|NULL|          NULL|      06|         0.0|         0.0|2002|02/04/2016 06:33:...|        NULL|         NULL|                NULL|\n",
      "|13203321|   JG415333|09/06/2023 05:00:...|    002XX N Wells st|1320|     CRIMINAL DAMAGE|          TO VEHICLE|PARKING LOT / GAR...| false|   false|0122|     001|  42|            32|      14|         0.0|         0.0|2023|09/14/2023 03:43:...|        NULL|         NULL|                NULL|\n",
      "|13210088|   JG423627|08/31/2023 12:00:...|023XX W JACKSON BLVD|1153|  DECEPTIVE PRACTICE|FINANCIAL IDENTIT...|              STREET| false|   false|1225|     012|  27|            28|      11|   1160870.0|   1898642.0|2023|09/16/2023 03:41:...|41.877565108| -87.68479102|(41.877565108, -8...|\n",
      "|13210004|   JG422532|07/24/2023 09:45:...|073XX S JEFFERY BLVD|0281|CRIMINAL SEXUAL A...|      NON-AGGRAVATED|           APARTMENT| false|   false|0333|     003|   7|            43|      02|   1190812.0|   1856743.0|2023|09/16/2023 03:41:...|  41.7619185|-87.576209245|(41.7619185, -87....|\n",
      "+--------+-----------+--------------------+--------------------+----+--------------------+--------------------+--------------------+------+--------+----+--------+----+--------------+--------+------------+------------+----+--------------------+------------+-------------+--------------------+\n",
      "only showing top 5 rows\n",
      "\n"
     ]
    }
   ],
   "source": [
    "from pyspark.sql.functions import isnan, when, count, col\n",
    "ch.show(5)\n",
    "null_counts = ch.select([\n",
    "    count(when(col(c).isNull(), c)).alias(c)\n",
    "    for c in ch.columns\n",
    "])\n",
    "\n",
    "pandas_null_counts = null_counts.toPandas()\n",
    "print(\"Column wise NULL values \", pandas_null_counts)\n",
    "\n",
    "fill_values = {\n",
    "    \"ID\": 0,\n",
    "    \"X Coordinate\": 0.0,\n",
    "    \"Y Coordinate\": 0.0,\n",
    "    \"Description\": \"NA\",\n",
    "}\n",
    "\n",
    "for col_name, fill_value in fill_values.items():\n",
    "    ch = ch.na.fill(fill_value, [col_name])\n",
    "\n",
    "print(\"DataFrame with Null Values Filled:\")\n",
    "ch.show(5)"
   ]
  },
  {
   "cell_type": "code",
   "execution_count": 7,
   "metadata": {
    "colab": {
     "base_uri": "https://localhost:8080/"
    },
    "id": "qIqg-QftMQUX",
    "outputId": "d139ab4a-73dc-4696-a796-cc6954d4e498"
   },
   "outputs": [
    {
     "name": "stderr",
     "output_type": "stream",
     "text": [
      "[Stage 9:=====================================>                    (9 + 5) / 14]\r"
     ]
    },
    {
     "name": "stdout",
     "output_type": "stream",
     "text": [
      "+---+-----------+----+-----+----+------------+-----------+--------------------+------+--------+----+--------+------+--------------+--------+------------+------------+----+----------+--------+---------+--------+\n",
      "| ID|Case Number|Date|Block|IUCR|Primary Type|Description|Location Description|Arrest|Domestic|Beat|District|  Ward|Community Area|FBI Code|X Coordinate|Y Coordinate|Year|Updated On|Latitude|Longitude|Location|\n",
      "+---+-----------+----+-----+----+------------+-----------+--------------------+------+--------+----+--------+------+--------------+--------+------------+------------+----+----------+--------+---------+--------+\n",
      "|  0|          0|   0|    0|   0|           0|          0|               11907|     0|       0|   0|      47|614849|        613476|       0|           0|           0|   0|         0|   90108|    90108|   90108|\n",
      "+---+-----------+----+-----+----+------------+-----------+--------------------+------+--------+----+--------+------+--------------+--------+------------+------------+----+----------+--------+---------+--------+\n",
      "\n"
     ]
    },
    {
     "name": "stderr",
     "output_type": "stream",
     "text": [
      "\r",
      "                                                                                \r"
     ]
    }
   ],
   "source": [
    "#after filling null valus, again Checking number for nulls in dataframe column-wise\n",
    "from pyspark.sql.functions import isnan, when, count, col\n",
    "\n",
    "ch.select([\n",
    "    count(when(col(c).isNull(), c)).alias(c)\n",
    "    for c in ch.columns\n",
    "]).show()"
   ]
  },
  {
   "cell_type": "code",
   "execution_count": 8,
   "metadata": {
    "colab": {
     "base_uri": "https://localhost:8080/"
    },
    "id": "dyVGq1VvOQe9",
    "outputId": "6a2b92dc-4a3f-4423-ad04-6cda85ab7718"
   },
   "outputs": [
    {
     "name": "stdout",
     "output_type": "stream",
     "text": [
      "+--------+-----------+-------------------+--------------------+----+--------------------+--------------------+--------------------+------+--------+----+--------+----+--------------+--------+------------+------------+----+--------------------+------------+-------------+--------------------+\n",
      "|      ID|Case Number|               Date|               Block|IUCR|        Primary Type|         Description|Location Description|Arrest|Domestic|Beat|District|Ward|Community Area|FBI Code|X Coordinate|Y Coordinate|Year|          Updated On|    Latitude|    Longitude|            Location|\n",
      "+--------+-----------+-------------------+--------------------+----+--------------------+--------------------+--------------------+------+--------+----+--------+----+--------------+--------+------------+------------+----+--------------------+------------+-------------+--------------------+\n",
      "| 5741943|   HN549294|2007-08-25 09:22:18|  074XX N ROGERS AVE|0560|             ASSAULT|              SIMPLE|               OTHER| false|   false|2422|     024|  49|             1|     08A|         0.0|         0.0|2007|08/17/2015 03:03:...|        NULL|         NULL|                NULL|\n",
      "| 1930689|   HH109118|2002-01-05 21:24:00|      007XX E 103 ST|0820|               THEFT|      $500 AND UNDER|         GAS STATION|  true|   false|0512|     005|NULL|          NULL|      06|         0.0|         0.0|2002|02/04/2016 06:33:...|        NULL|         NULL|                NULL|\n",
      "|13203321|   JG415333|2023-09-06 17:00:00|    002XX N Wells st|1320|     CRIMINAL DAMAGE|          TO VEHICLE|PARKING LOT / GAR...| false|   false|0122|     001|  42|            32|      14|         0.0|         0.0|2023|09/14/2023 03:43:...|        NULL|         NULL|                NULL|\n",
      "|13210088|   JG423627|2023-08-31 12:00:00|023XX W JACKSON BLVD|1153|  DECEPTIVE PRACTICE|FINANCIAL IDENTIT...|              STREET| false|   false|1225|     012|  27|            28|      11|   1160870.0|   1898642.0|2023|09/16/2023 03:41:...|41.877565108| -87.68479102|(41.877565108, -8...|\n",
      "|13210004|   JG422532|2023-07-24 21:45:00|073XX S JEFFERY BLVD|0281|CRIMINAL SEXUAL A...|      NON-AGGRAVATED|           APARTMENT| false|   false|0333|     003|   7|            43|      02|   1190812.0|   1856743.0|2023|09/16/2023 03:41:...|  41.7619185|-87.576209245|(41.7619185, -87....|\n",
      "+--------+-----------+-------------------+--------------------+----+--------------------+--------------------+--------------------+------+--------+----+--------+----+--------------+--------+------------+------------+----+--------------------+------------+-------------+--------------------+\n",
      "only showing top 5 rows\n",
      "\n"
     ]
    }
   ],
   "source": [
    "# # # Modified the data type of the Date column to TimestampType by utilizing the cast method.\n",
    "from pyspark.sql.functions import to_timestamp, col\n",
    "from pyspark.sql import functions as F\n",
    "\n",
    "# Define a list of potential date format patterns\n",
    "sparkSession.conf.set(\"spark.sql.legacy.timeParserPolicy\", \"LEGACY\")\n",
    "date_format_patterns = [\"MM/dd/yyyy hh:mm:ss a\", \"MM/dd/yyyy HH:mm:ss\"]\n",
    "\n",
    "# Create a new column with a timestamp for each format\n",
    "for pattern in date_format_patterns:\n",
    "    ch = ch.withColumn(\"Date_\" + pattern, to_timestamp(col(\"Date\"), pattern))\n",
    "\n",
    "# Find the first non-null date from the multiple columns\n",
    "ch = ch.withColumn(\"Date\", F.coalesce(*[col(\"Date_\" + pattern) for pattern in date_format_patterns]))\n",
    "\n",
    "# Drop the temporary columns\n",
    "for pattern in date_format_patterns:\n",
    "    ch = ch.drop(\"Date_\" + pattern)\n",
    "ch.show(5)\n"
   ]
  },
  {
   "cell_type": "code",
   "execution_count": 9,
   "metadata": {
    "colab": {
     "base_uri": "https://localhost:8080/"
    },
    "id": "5Iu05pABOQtQ",
    "outputId": "f74f073b-0181-4178-c686-9cbeeec867b8"
   },
   "outputs": [
    {
     "name": "stdout",
     "output_type": "stream",
     "text": [
      "+--------+-----------+-------------------+--------------------+----+--------------------+--------------------+--------------------+------+--------+----+--------+----+--------------+--------+------------+------------+----+--------------------+------------+-------------+--------------------+\n",
      "|      ID|Case Number|               Date|               Block|IUCR|        Primary Type|         Description|Location Description|Arrest|Domestic|Beat|District|Ward|Community Area|FBI Code|X Coordinate|Y Coordinate|Year|          Updated On|    Latitude|    Longitude|            Location|\n",
      "+--------+-----------+-------------------+--------------------+----+--------------------+--------------------+--------------------+------+--------+----+--------+----+--------------+--------+------------+------------+----+--------------------+------------+-------------+--------------------+\n",
      "|13203321|   JG415333|2023-09-06 17:00:00|    002XX N Wells st|1320|     CRIMINAL DAMAGE|          TO VEHICLE|PARKING LOT / GAR...| false|   false|0122|     001|  42|            32|      14|         0.0|         0.0|2023|09/14/2023 03:43:...|        NULL|         NULL|                NULL|\n",
      "|13210088|   JG423627|2023-08-31 12:00:00|023XX W JACKSON BLVD|1153|  DECEPTIVE PRACTICE|FINANCIAL IDENTIT...|              STREET| false|   false|1225|     012|  27|            28|      11|   1160870.0|   1898642.0|2023|09/16/2023 03:41:...|41.877565108| -87.68479102|(41.877565108, -8...|\n",
      "|13210004|   JG422532|2023-07-24 21:45:00|073XX S JEFFERY BLVD|0281|CRIMINAL SEXUAL A...|      NON-AGGRAVATED|           APARTMENT| false|   false|0333|     003|   7|            43|      02|   1190812.0|   1856743.0|2023|09/16/2023 03:41:...|  41.7619185|-87.576209245|(41.7619185, -87....|\n",
      "|13210062|   JG423596|2023-08-27 07:00:00|034XX N LAWNDALE AVE|0820|               THEFT|      $500 AND UNDER|           APARTMENT| false|   false|1732|     017|  30|            21|      06|   1151117.0|   1922554.0|2023|09/16/2023 03:41:...|41.943378528|  -87.7199738|(41.943378528, -8...|\n",
      "|13210107|   JG411849|2023-09-04 21:30:00|   053XX S HOMAN AVE|1310|     CRIMINAL DAMAGE|         TO PROPERTY|  RESIDENCE - GARAGE| false|   false|0822|     008|  14|            63|      14|   1154617.0|   1869046.0|2023|09/16/2023 03:41:...|41.796477414|-87.708540915|(41.796477414, -8...|\n",
      "+--------+-----------+-------------------+--------------------+----+--------------------+--------------------+--------------------+------+--------+----+--------+----+--------------+--------+------------+------------+----+--------------------+------------+-------------+--------------------+\n",
      "only showing top 5 rows\n",
      "\n"
     ]
    }
   ],
   "source": [
    "# filtering data for the last ten years\n",
    "ch=ch.filter((ch[\"Year\"] >= 2013))\n",
    "ch.show(5)"
   ]
  },
  {
   "cell_type": "code",
   "execution_count": 10,
   "metadata": {},
   "outputs": [
    {
     "name": "stderr",
     "output_type": "stream",
     "text": [
      "                                                                                \r"
     ]
    },
    {
     "name": "stdout",
     "output_type": "stream",
     "text": [
      "Count of Before Removing all the records with crime types :  2778427\n"
     ]
    },
    {
     "name": "stderr",
     "output_type": "stream",
     "text": [
      "[Stage 17:========================================>               (10 + 4) / 14]\r"
     ]
    },
    {
     "name": "stdout",
     "output_type": "stream",
     "text": [
      "Count of after Removing all the records with crime types :  2596601\n"
     ]
    },
    {
     "name": "stderr",
     "output_type": "stream",
     "text": [
      "\r",
      "                                                                                \r"
     ]
    }
   ],
   "source": [
    "# # Remove all the records with the following crime types:\n",
    "# #'NON-CRIMINAL (SUBJECT SPECIFIED)' 'OTHER OFFENSE' 'STALKING', 'NON - CRIMINAL', 'ARSON'\n",
    "from pyspark.sql.functions import col\n",
    "print(\"Count of Before Removing all the records with crime types : \", ch.count())\n",
    "crime_types_to_remove=[\n",
    "    'NON-CRIMINAL (SUBJECT SPECIFIED)',\n",
    "    'OTHER OFFENSE',\n",
    "    'STALKING',\n",
    "    'NON - CRIMINAL',\n",
    "    'ARSON'\n",
    "]\n",
    "ch =ch.filter(~col(\"Primary Type\").isin(crime_types_to_remove))\n",
    "print(\"Count of after Removing all the records with crime types : \", ch.count())"
   ]
  },
  {
   "cell_type": "code",
   "execution_count": 11,
   "metadata": {},
   "outputs": [
    {
     "name": "stderr",
     "output_type": "stream",
     "text": [
      "                                                                                \r"
     ]
    },
    {
     "name": "stdout",
     "output_type": "stream",
     "text": [
      "+---------------------------------+\n",
      "|Primary Type                     |\n",
      "+---------------------------------+\n",
      "|ASSAULT                          |\n",
      "|BATTERY                          |\n",
      "|BURGLARY                         |\n",
      "|CONCEALED CARRY LICENSE VIOLATION|\n",
      "|CRIM SEXUAL ASSAULT              |\n",
      "|CRIMINAL DAMAGE                  |\n",
      "|CRIMINAL SEXUAL ASSAULT          |\n",
      "|CRIMINAL TRESPASS                |\n",
      "|DECEPTIVE PRACTICE               |\n",
      "|GAMBLING                         |\n",
      "|HOMICIDE                         |\n",
      "|HUMAN TRAFFICKING                |\n",
      "|INTERFERENCE WITH PUBLIC OFFICER |\n",
      "|INTIMIDATION                     |\n",
      "|KIDNAPPING                       |\n",
      "|LIQUOR LAW VIOLATION             |\n",
      "|MOTOR VEHICLE THEFT              |\n",
      "|NARCOTICS                        |\n",
      "|NON-CRIMINAL                     |\n",
      "|OBSCENITY                        |\n",
      "+---------------------------------+\n",
      "only showing top 20 rows\n",
      "\n",
      "\n",
      "After Merging:\n"
     ]
    },
    {
     "name": "stderr",
     "output_type": "stream",
     "text": [
      "                                                                                \r"
     ]
    },
    {
     "name": "stdout",
     "output_type": "stream",
     "text": [
      "+---------------------------------+\n",
      "|Primary Type                     |\n",
      "+---------------------------------+\n",
      "|ASSAULT                          |\n",
      "|BATTERY                          |\n",
      "|BURGLARY                         |\n",
      "|CONCEALED CARRY LICENSE VIOLATION|\n",
      "|CRIM SEXUAL ASSAULT              |\n",
      "|CRIMINAL DAMAGE                  |\n",
      "|CRIMINAL SEXUAL ASSAULT          |\n",
      "|CRIMINAL TRESPASS                |\n",
      "|DECEPTIVE PRACTICE               |\n",
      "|GAMBLING                         |\n",
      "|HOMICIDE                         |\n",
      "|HUMAN TRAFFICKING                |\n",
      "|INTERFERENCE WITH PUBLIC OFFICER |\n",
      "|INTIMIDATION                     |\n",
      "|KIDNAPPING                       |\n",
      "|LIQUOR LAW VIOLATION             |\n",
      "|MOTOR VEHICLE THEFT              |\n",
      "|NARCOTICS                        |\n",
      "|NON-CRIMINAL                     |\n",
      "|OBSCENITY                        |\n",
      "+---------------------------------+\n",
      "only showing top 20 rows\n",
      "\n",
      "+--------+-----------+-------------------+--------------------+----+--------------------+--------------------+--------------------+------+--------+----+--------+----+--------------+--------+------------+------------+----+--------------------+------------+-------------+--------------------+\n",
      "|      ID|Case Number|               Date|               Block|IUCR|        Primary Type|         Description|Location Description|Arrest|Domestic|Beat|District|Ward|Community Area|FBI Code|X Coordinate|Y Coordinate|Year|          Updated On|    Latitude|    Longitude|            Location|\n",
      "+--------+-----------+-------------------+--------------------+----+--------------------+--------------------+--------------------+------+--------+----+--------+----+--------------+--------+------------+------------+----+--------------------+------------+-------------+--------------------+\n",
      "|13203321|   JG415333|2023-09-06 17:00:00|    002XX N Wells st|1320|     CRIMINAL DAMAGE|          TO VEHICLE|PARKING LOT / GAR...| false|   false|0122|     001|  42|            32|      14|         0.0|         0.0|2023|09/14/2023 03:43:...|        NULL|         NULL|                NULL|\n",
      "|13210088|   JG423627|2023-08-31 12:00:00|023XX W JACKSON BLVD|1153|  DECEPTIVE PRACTICE|FINANCIAL IDENTIT...|              STREET| false|   false|1225|     012|  27|            28|      11|   1160870.0|   1898642.0|2023|09/16/2023 03:41:...|41.877565108| -87.68479102|(41.877565108, -8...|\n",
      "|13210004|   JG422532|2023-07-24 21:45:00|073XX S JEFFERY BLVD|0281|CRIMINAL SEXUAL A...|      NON-AGGRAVATED|           APARTMENT| false|   false|0333|     003|   7|            43|      02|   1190812.0|   1856743.0|2023|09/16/2023 03:41:...|  41.7619185|-87.576209245|(41.7619185, -87....|\n",
      "|13210062|   JG423596|2023-08-27 07:00:00|034XX N LAWNDALE AVE|0820|               THEFT|      $500 AND UNDER|           APARTMENT| false|   false|1732|     017|  30|            21|      06|   1151117.0|   1922554.0|2023|09/16/2023 03:41:...|41.943378528|  -87.7199738|(41.943378528, -8...|\n",
      "|13210107|   JG411849|2023-09-04 21:30:00|   053XX S HOMAN AVE|1310|     CRIMINAL DAMAGE|         TO PROPERTY|  RESIDENCE - GARAGE| false|   false|0822|     008|  14|            63|      14|   1154617.0|   1869046.0|2023|09/16/2023 03:41:...|41.796477414|-87.708540915|(41.796477414, -8...|\n",
      "+--------+-----------+-------------------+--------------------+----+--------------------+--------------------+--------------------+------+--------+----+--------+----+--------------+--------+------------+------------+----+--------------------+------------+-------------+--------------------+\n",
      "only showing top 5 rows\n",
      "\n"
     ]
    }
   ],
   "source": [
    "from pyspark.sql.functions import when, col, date_format\n",
    "# Print distinct values of Primary Type before merging\n",
    "ch.select(\"Primary Type\").distinct().orderBy(\"Primary Type\").show(truncate=False)\n",
    "\n",
    "# Merge similar crime types\n",
    "ch = ch.withColumn(\n",
    "    \"Primary Type\",\n",
    "    when(\n",
    "        col(\"Primary Type\").isin(\"SEX OFFENSE\", \"PROSTITUTION\"),\n",
    "        \"SEX CRIME\"\n",
    "    ).otherwise(col(\"Primary Type\"))\n",
    ")\n",
    "print(\"\\nAfter Merging:\")\n",
    "ch.select(\"Primary Type\").distinct().orderBy(\"Primary Type\").show(truncate=False)\n",
    "\n",
    "# Show the DataFrame\n",
    "ch.show(5)"
   ]
  },
  {
   "cell_type": "code",
   "execution_count": 12,
   "metadata": {
    "colab": {
     "base_uri": "https://localhost:8080/"
    },
    "id": "WMjkf_5hUMzk",
    "outputId": "a69db786-d50b-4c62-85fb-b222deef53e2"
   },
   "outputs": [
    {
     "name": "stderr",
     "output_type": "stream",
     "text": [
      "[Stage 27:====================================================>   (13 + 1) / 14]\r"
     ]
    },
    {
     "name": "stdout",
     "output_type": "stream",
     "text": [
      "+----+------+\n",
      "|Year|Crimes|\n",
      "+----+------+\n",
      "|2018|251065|\n",
      "|2015|246595|\n",
      "|2023|188267|\n",
      "|2022|223555|\n",
      "|2013|288953|\n",
      "|2014|258216|\n",
      "|2019|243959|\n",
      "|2020|198841|\n",
      "|2016|251822|\n",
      "|2017|251197|\n",
      "|2021|194063|\n",
      "+----+------+\n",
      "\n"
     ]
    },
    {
     "name": "stderr",
     "output_type": "stream",
     "text": [
      "\r",
      "                                                                                \r"
     ]
    }
   ],
   "source": [
    "# # # filter out records with null year values in Date column \n",
    "from pyspark.sql.functions import year\n",
    "ch = ch.filter(year(\"Date\").isNotNull())\n",
    "yearly_crime_count = ch.groupBy(year(\"Date\").alias(\"Year\")).agg(count(\"*\").alias(\"Crimes\"))\n",
    "# Show the yearly crime count\n",
    "yearly_crime_count.show()\n"
   ]
  },
  {
   "cell_type": "code",
   "execution_count": 13,
   "metadata": {},
   "outputs": [
    {
     "name": "stderr",
     "output_type": "stream",
     "text": [
      "                                                                                \r"
     ]
    },
    {
     "name": "stdout",
     "output_type": "stream",
     "text": [
      "+----+----------+\n",
      "|Hour|CrimeCount|\n",
      "+----+----------+\n",
      "|  12|    152211|\n",
      "|   0|    146922|\n",
      "|  18|    145076|\n",
      "|  19|    144104|\n",
      "|  15|    141962|\n",
      "|  17|    139085|\n",
      "|  20|    138103|\n",
      "|  16|    137078|\n",
      "|  14|    129623|\n",
      "|  21|    128869|\n",
      "|  22|    126759|\n",
      "|  13|    123346|\n",
      "|  11|    117103|\n",
      "|   9|    115080|\n",
      "|  10|    113576|\n",
      "|  23|    107313|\n",
      "|   8|     87834|\n",
      "|   1|     80938|\n",
      "|   2|     70229|\n",
      "|   7|     61583|\n",
      "+----+----------+\n",
      "only showing top 20 rows\n",
      "\n"
     ]
    },
    {
     "name": "stderr",
     "output_type": "stream",
     "text": [
      "[Stage 33:============================================>           (11 + 3) / 14]\r"
     ]
    },
    {
     "name": "stdout",
     "output_type": "stream",
     "text": [
      "The hour with the highest crime count is 12 with 152211 crimes.\n"
     ]
    },
    {
     "name": "stderr",
     "output_type": "stream",
     "text": [
      "\r",
      "                                                                                \r"
     ]
    }
   ],
   "source": [
    "# Assuming 'ch' is your DataFrame containing crime data\n",
    "ch.createOrReplaceTempView(\"crime_data\")\n",
    "x = sparkSession.sql(\"\"\"\n",
    "    SELECT hour(to_timestamp(Date, 'MM/dd/yyyy hh:mm:ss a')) as Hour, COUNT(*) as CrimeCount\n",
    "    FROM crime_data\n",
    "    GROUP BY Hour\n",
    "    ORDER BY CrimeCount DESC\n",
    "\"\"\")\n",
    "x.show()\n",
    "most_common_hour = x.first()\n",
    "print(f\"The hour with the highest crime count is {most_common_hour['Hour']} with {most_common_hour['CrimeCount']} crimes.\")\n"
   ]
  },
  {
   "cell_type": "code",
   "execution_count": 14,
   "metadata": {},
   "outputs": [
    {
     "name": "stderr",
     "output_type": "stream",
     "text": [
      "                                                                                \r"
     ]
    },
    {
     "data": {
      "image/png": "[encoded data removed]",
      "text/plain": [
       "<Figure size 720x432 with 1 Axes>"
      ]
     },
     "metadata": {
      "needs_background": "light"
     },
     "output_type": "display_data"
    }
   ],
   "source": [
    "import pandas as pd\n",
    "import matplotlib.pyplot as plt\n",
    "\n",
    "current_year = F.year(F.current_date())\n",
    "filtered_data = ch.filter((year(\"Date\") >= current_year - 10) & (year(\"Date\") <= current_year))\n",
    "yearly_crime_count = filtered_data.groupBy(year(\"Date\").alias(\"Year\")).agg(F.count(\"*\").alias(\"Crimes\"))\n",
    "yearly_crime_count_pandas = yearly_crime_count.toPandas()\n",
    "yearly_crime_count_pandas = yearly_crime_count_pandas.sort_values(by=\"Year\")\n",
    "\n",
    "plt.figure(figsize=(10, 6))\n",
    "plt.plot(yearly_crime_count_pandas['Year'], yearly_crime_count_pandas['Crimes'], marker='o', linestyle='-')\n",
    "plt.xlabel('Year')\n",
    "plt.ylabel('Number of Crimes')\n",
    "plt.title('Year-wise Trend of Crime (Last Ten Years)')\n",
    "plt.grid(True)\n",
    "plt.tight_layout()\n",
    "plt.show()\n"
   ]
  },
  {
   "cell_type": "code",
   "execution_count": 15,
   "metadata": {
    "colab": {
     "base_uri": "https://localhost:8080/",
     "height": 585
    },
    "id": "NqpjZraQZgDs",
    "outputId": "bf68ec0f-5af7-478c-dbbb-793717edec39"
   },
   "outputs": [
    {
     "data": {
      "image/png": "[encoded data removed]",
      "text/plain": [
       "<Figure size 720x432 with 1 Axes>"
      ]
     },
     "metadata": {
      "needs_background": "light"
     },
     "output_type": "display_data"
    }
   ],
   "source": [
    "import pandas as pd\n",
    "import matplotlib.pyplot as plt\n",
    "\n",
    "yearly_crime_count_pandas = yearly_crime_count.toPandas()\n",
    "\n",
    "top_ten_crimes = yearly_crime_count_pandas.nlargest(10, 'Crimes')\n",
    "\n",
    "plt.figure(figsize=(10, 6))\n",
    "plt.bar(top_ten_crimes['Year'], top_ten_crimes['Crimes'])\n",
    "plt.xlabel('Different Labels Here')\n",
    "plt.ylabel('Number of Crimes')\n",
    "plt.title('Top Ten Crimes by Year')\n",
    "plt.xticks(rotation=45)\n",
    "plt.tight_layout()\n",
    "\n",
    "plt.show()"
   ]
  },
  {
   "cell_type": "code",
   "execution_count": 16,
   "metadata": {
    "id": "_lkm9wkNS7oW"
   },
   "outputs": [
    {
     "name": "stderr",
     "output_type": "stream",
     "text": [
      "                                                                                \r"
     ]
    },
    {
     "data": {
      "image/png": "[encoded data removed]",
      "text/plain": [
       "<Figure size 720x432 with 1 Axes>"
      ]
     },
     "metadata": {
      "needs_background": "light"
     },
     "output_type": "display_data"
    }
   ],
   "source": [
    "import pandas as pd\n",
    "import matplotlib.pyplot as plt\n",
    "\n",
    "crime_counts = ch.groupBy(\"Primary Type\").count()\n",
    "top_ten_crimes = crime_counts.orderBy(\"count\", ascending=False).limit(10)\n",
    "top_ten_crimes_pandas = top_ten_crimes.toPandas()\n",
    "\n",
    "plt.figure(figsize=(10, 6))\n",
    "plt.bar(top_ten_crimes_pandas['Primary Type'], top_ten_crimes_pandas['count'])\n",
    "plt.xlabel('Crime Type')\n",
    "plt.ylabel('Number of Occurrences')\n",
    "plt.title('Top Ten Crimes')\n",
    "plt.xticks(rotation=45)\n",
    "plt.tight_layout()\n",
    "plt.show()\n"
   ]
  }
 ],
 "metadata": {
  "colab": {
   "provenance": []
  },
  "kernelspec": {
   "display_name": "Python 3 (ipykernel)",
   "language": "python",
   "name": "python3"
  },
  "language_info": {
   "codemirror_mode": {
    "name": "ipython",
    "version": 3
   },
   "file_extension": ".py",
   "mimetype": "text/x-python",
   "name": "python",
   "nbconvert_exporter": "python",
   "pygments_lexer": "ipython3",
   "version": "3.9.12"
  }
 },
 "nbformat": 4,
 "nbformat_minor": 1
}
